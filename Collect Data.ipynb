{
 "cells": [
  {
   "attachments": {},
   "cell_type": "markdown",
   "metadata": {},
   "source": [
    "## Kernel: Python 3.8"
   ]
  },
  {
   "cell_type": "code",
   "execution_count": null,
   "metadata": {},
   "outputs": [],
   "source": [
    "from dotenv import dotenv_values\n",
    "from datetime import timedelta, datetime\n",
    "\n",
    "import pandas as pd\n",
    "import requests\n",
    "import locale"
   ]
  },
  {
   "attachments": {},
   "cell_type": "markdown",
   "metadata": {},
   "source": [
    "## Get Authority"
   ]
  },
  {
   "cell_type": "code",
   "execution_count": null,
   "metadata": {},
   "outputs": [],
   "source": [
    "config = dotenv_values(\".env\") # get values from .env file\n",
    "locale.setlocale(locale.LC_ALL, \"id\") # set local language\n",
    "\n",
    "def login() -> str:\n",
    "    try:\n",
    "        url = 'https://api.kampusmerdeka.kemdikbud.go.id/user/auth/login/mbkm'\n",
    "        headers = {\n",
    "            'User-Agent': 'Mozilla/5.0 (Windows NT 10.0; Win64; x64) AppleWebKit/537.36 (KHTML, like Gecko) Chrome/108.0.0.0 Safari/537.36'\n",
    "        }\n",
    "        account = {\n",
    "            'email': config.get('EMAIL'),\n",
    "            'password': config.get('PASSWORD')\n",
    "        }\n",
    "        response = requests.post(url, json=account, headers=headers)\n",
    "        token = response.json()['data'].get('access_token')\n",
    "    \n",
    "    except Exception:\n",
    "        raise ValueError(response.json()[\"error\"][\"message\"])\n",
    "    \n",
    "    return token, account\n",
    "\n",
    "(token, account) = login()\n",
    "headers = dict()\n",
    "headers[\"Accept\"] = 'application/json'\n",
    "headers[\"Authorization\"] = f'Bearer {token}'\n",
    "headers[\"User-Agent\"] = 'Mozilla/5.0 (Windows NT 10.0; Win64; x64) AppleWebKit/537.36 (KHTML, like Gecko) Chrome/108.0.0.0 Safari/537.36'\n",
    "\n",
    "print(f'login success')"
   ]
  },
  {
   "attachments": {},
   "cell_type": "markdown",
   "metadata": {},
   "source": [
    "## 1. Fetch ALL Mitra (Raw & Test)"
   ]
  },
  {
   "cell_type": "code",
   "execution_count": null,
   "metadata": {},
   "outputs": [],
   "source": [
    "url = f'https://api.kampusmerdeka.kemdikbud.go.id/magang/browse/position?offset=0&limit=10000&location_key=&mitra_key=&keyword=&sector_id='\n",
    "response = requests.get(url, headers=headers)\n",
    "reports = response.json().get('data')\n",
    "\n",
    "print(reports)"
   ]
  },
  {
   "attachments": {},
   "cell_type": "markdown",
   "metadata": {},
   "source": [
    "## 2. Process Data FULL"
   ]
  },
  {
   "cell_type": "code",
   "execution_count": 8,
   "metadata": {},
   "outputs": [],
   "source": [
    "url = f'https://api.kampusmerdeka.kemdikbud.go.id/magang/browse/position?offset=0&limit=10000&location_key=&mitra_key=&keyword=&sector_id='\n",
    "response = requests.get(url, headers=headers)\n",
    "mitra_data = response.json().get('data')\n",
    "\n",
    "#===== List Initialization\n",
    "id_position_cols = []\n",
    "position_name_cols = []\n",
    "mitra_name_cols = []\n",
    "activity_name_cols = []\n",
    "position_quota_cols = []\n",
    "location_cols = []\n",
    "activity_type_cols = []\n",
    "logo_mitra_cols = []\n",
    "\n",
    "# TODO: EXTRA FIELDS\n",
    "start_duration_cols = []\n",
    "end_duration_cols = []\n",
    "start_registration_cols = []\n",
    "end_registration_cols = []\n",
    "credits_count_cols = []\n",
    "location_code_cols = []\n",
    "mitra_id_cols = []\n",
    "certified_cols = []\n",
    "\n",
    "Nomor_Mitra_cols = []\n",
    "Nomor_Mitra = 1\n",
    "\n",
    "for mitra_data_detail in mitra_data:\n",
    "    #===== fetch data from mitra_data_detail dict in mitra_data list\n",
    "    id_position = mitra_data_detail[\"id\"]\n",
    "    position_name = mitra_data_detail[\"name\"]\n",
    "    mitra_name = mitra_data_detail[\"mitra_name\"]\n",
    "    activity_name = mitra_data_detail[\"activity_name\"]\n",
    "    position_quota = mitra_data_detail[\"total\"]\n",
    "    location = mitra_data_detail[\"location\"]\n",
    "    activity_type = mitra_data_detail[\"activity_type\"]\n",
    "    logo_mitra = mitra_data_detail[\"logo\"]\n",
    "\n",
    "    # TODO: EXTRA FIELDS\n",
    "    start_duration = mitra_data_detail[\"start_duration\"]\n",
    "    end_duration = mitra_data_detail[\"end_duration\"]\n",
    "    start_registration = mitra_data_detail[\"start_registration\"]\n",
    "    end_registration = mitra_data_detail[\"end_registration\"]\n",
    "    credits_count = mitra_data_detail[\"credits_count\"]\n",
    "    location_code = mitra_data_detail[\"location_kotakab_code\"]\n",
    "    mitra_id = mitra_data_detail[\"mitra_id\"]\n",
    "    certified = mitra_data_detail[\"certified\"]\n",
    "\n",
    "    \n",
    "\n",
    "    #===== Append Data\n",
    "    Nomor_Mitra_cols.append(Nomor_Mitra)\n",
    "    id_position_cols.append(id_position)\n",
    "    position_name_cols.append(position_name)\n",
    "    mitra_name_cols.append(mitra_name)\n",
    "    activity_name_cols.append(activity_name)\n",
    "    position_quota_cols.append(position_quota)\n",
    "    location_cols.append(location)\n",
    "    activity_type_cols.append(activity_type)\n",
    "    logo_mitra_cols.append(logo_mitra)\n",
    "\n",
    "    # TODO: EXTRA FIELDS\n",
    "    start_duration_cols.append(start_duration)\n",
    "    end_duration_cols.append(end_duration)\n",
    "    start_registration_cols.append(start_registration)\n",
    "    end_registration_cols.append(end_registration)\n",
    "    credits_count_cols.append(credits_count)\n",
    "    location_code_cols.append(location_code)\n",
    "    mitra_id_cols.append(mitra_id)\n",
    "    certified_cols.append(certified)\n",
    "\n",
    "    Nomor_Mitra += 1\n",
    "\n",
    "#===== Convert Data to DataFrame\n",
    "mitra_data_df_full = pd.DataFrame({\n",
    "    \"Nomor_Mitra\": Nomor_Mitra_cols,\n",
    "    \"ID Posisi\": id_position_cols,\n",
    "    \"Nama Posisi\": position_name_cols,\n",
    "    \"Nama Mitra\": mitra_name_cols,\n",
    "    \"Nama Kegiatan\": activity_name_cols,\n",
    "    \"Kuota Posisi\": position_quota_cols,\n",
    "    \"Lokasi Bekerja\": location_cols,\n",
    "    \"Tipe Aktivitas\": activity_type_cols,\n",
    "    \"URL Logo\": logo_mitra_cols,\n",
    "\n",
    "    # TODO: EXTRA FIELDS\n",
    "    \"Mulai Periode\": start_duration_cols,\n",
    "    \"Berakhir Periode\": end_duration_cols,\n",
    "    \"Mulai Pendaftaran\": start_registration_cols,\n",
    "    \"Berakhir Pendaftaran\": end_registration_cols,\n",
    "    \"SKS Diberikan\": credits_count_cols,\n",
    "    \"Kode Lokasi\": location_code_cols,\n",
    "    \"ID Mitra\": mitra_id_cols,\n",
    "    \"Kegiatan Bersertifikat\": certified_cols\n",
    "})\n"
   ]
  },
  {
   "attachments": {},
   "cell_type": "markdown",
   "metadata": {},
   "source": [
    "## 2. Process Data COMPACT"
   ]
  },
  {
   "cell_type": "code",
   "execution_count": null,
   "metadata": {},
   "outputs": [],
   "source": [
    "url = f'https://api.kampusmerdeka.kemdikbud.go.id/magang/browse/position?offset=0&limit=10000&location_key=&mitra_key=&keyword=&sector_id='\n",
    "response = requests.get(url, headers=headers)\n",
    "mitra_data = response.json().get('data')\n",
    "\n",
    "Nomor_Mitra_cols = []\n",
    "id_position_cols = []\n",
    "position_name_cols = []\n",
    "mitra_name_cols = []\n",
    "activity_name_cols = []\n",
    "position_quota_cols = []\n",
    "location_cols = []\n",
    "activity_type_cols = []\n",
    "logo_mitra_cols = []\n",
    "\n",
    "for mitra_data_detail in mitra_data:\n",
    "    # fetch data from mitra_data_detail dict in mitra_data list\n",
    "    id_position = mitra_data_detail[\"id\"]\n",
    "    position_name = mitra_data_detail[\"name\"]\n",
    "    mitra_name = mitra_data_detail[\"mitra_name\"]\n",
    "    activity_name = mitra_data_detail[\"activity_name\"]\n",
    "    position_quota = mitra_data_detail[\"total\"]\n",
    "    location = mitra_data_detail[\"location\"]\n",
    "    activity_type = mitra_data_detail[\"activity_type\"]\n",
    "    logo_mitra = mitra_data_detail[\"logo\"]\n",
    "\n",
    "    # Append Data\n",
    "    id_position_cols.append(id_position)\n",
    "    position_name_cols.append(position_name)\n",
    "    mitra_name_cols.append(mitra_name)\n",
    "    activity_name_cols.append(activity_name)\n",
    "    position_quota_cols.append(position_quota)\n",
    "    location_cols.append(location)\n",
    "    activity_type_cols.append(activity_type)\n",
    "    logo_mitra_cols.append(logo_mitra)\n",
    "\n",
    "    Nomor_Mitra\n",
    "\n",
    "\n",
    "mitra_data_df_compact = pd.DataFrame({\n",
    "    \"Nomor Mitra\": Nomor_Mitra,\n",
    "    \"ID Posisi\": id_position_cols,\n",
    "    \"Nama Posisi\": position_name_cols,\n",
    "    \"Nama Mitra\": mitra_name_cols,\n",
    "    \"Nama Kegiatan\": activity_name_cols,\n",
    "    \"Kuota Posisi\": position_quota_cols,\n",
    "    \"Lokasi Bekerja\": location_cols,\n",
    "    \"Tipe Aktivitas\": activity_type_cols,\n",
    "    \"URL Logo\": logo_mitra_cols,\n",
    "})\n"
   ]
  },
  {
   "cell_type": "code",
   "execution_count": null,
   "metadata": {},
   "outputs": [],
   "source": [
    "mitra_data_df_full.info()"
   ]
  },
  {
   "cell_type": "code",
   "execution_count": null,
   "metadata": {},
   "outputs": [],
   "source": [
    "mitra_data_df_compact.info()"
   ]
  },
  {
   "cell_type": "code",
   "execution_count": null,
   "metadata": {},
   "outputs": [],
   "source": [
    "mitra_data_df_full"
   ]
  },
  {
   "attachments": {},
   "cell_type": "markdown",
   "metadata": {},
   "source": [
    "## 3. Output Files [CSV and EXCEL]"
   ]
  },
  {
   "cell_type": "code",
   "execution_count": 9,
   "metadata": {},
   "outputs": [
    {
     "name": "stdout",
     "output_type": "stream",
     "text": [
      "=== Output File Types ===\n",
      "1. CSV\n",
      "2. Excel\n",
      "Creating Excel with a file name suffix `- data mitra mbkm`\n"
     ]
    }
   ],
   "source": [
    "def output_files(df: pd.DataFrame):\n",
    "    output_types = [\"CSV\", \"Excel\"]\n",
    "    \n",
    "    print(\"=== Output File Types ===\")\n",
    "    \n",
    "    for i in range(len(output_types)):\n",
    "        format_name = output_types[i]\n",
    "        print(f'{i+1}. {format_name}')\n",
    "    \n",
    "    choose_number = int(input(\"Pilih format file untuk mengekspor dataframe: \")) - 1\n",
    "\n",
    "    now = datetime.now()\n",
    "    # dd-mm-YY H.M\n",
    "    dt_string = now.strftime(\"%d-%m-%Y %H.%M\")\n",
    "\n",
    "    if choose_number == 0:\n",
    "        filename = './' + dt_string + ' - data mitra mbkm.csv'\n",
    "        df.to_csv(filename, index=False)\n",
    "    elif choose_number == 1:\n",
    "        filename = './' + dt_string + ' - data mitra mbkm.xlsx'\n",
    "        df.to_excel(filename, index=False)\n",
    "    else:\n",
    "        raise ValueError(\"Not a valid input\")\n",
    "\n",
    "    print(f\"Creating {output_types[choose_number]} with a file name suffix `- data mitra mbkm`\")\n",
    "\n",
    "output_files(mitra_data_df_full)"
   ]
  },
  {
   "attachments": {},
   "cell_type": "markdown",
   "metadata": {},
   "source": [
    "## 4. Output Files [JSON]"
   ]
  },
  {
   "cell_type": "code",
   "execution_count": 7,
   "metadata": {},
   "outputs": [],
   "source": [
    "import json\n",
    "\n",
    "def output_files_json(df: pd.DataFrame):\n",
    "    now = datetime.now()\n",
    "    # dd-mm-YY H.M\n",
    "    dt_string = now.strftime(\"%d-%m-%Y %H.%M\")\n",
    "    filename = './' + dt_string + ' - data mitra mbkm.json'\n",
    "    df.to_json(filename, orient=\"records\")\n",
    "\n",
    "output_files_json(mitra_data_df_full)"
   ]
  },
  {
   "attachments": {},
   "cell_type": "markdown",
   "metadata": {},
   "source": [
    "## Extra: 1. Time Config"
   ]
  },
  {
   "cell_type": "code",
   "execution_count": null,
   "metadata": {},
   "outputs": [],
   "source": [
    "from datetime import datetime\n",
    "\n",
    "# datetime object containing current date and time\n",
    "now = datetime.now()\n",
    "\n",
    "print(\"now =\", now)\n",
    "\n",
    "# dd-mm-YY H.M\n",
    "dt_string = now.strftime(\"%d-%m-%Y %H.%M\")\n",
    "filename ='./' + dt_string + ' - data mitra mbkm.csv'\n",
    "print(\"date and time =\", filename)"
   ]
  }
 ],
 "metadata": {
  "kernelspec": {
   "display_name": "Python 3",
   "language": "python",
   "name": "python3"
  },
  "language_info": {
   "codemirror_mode": {
    "name": "ipython",
    "version": 3
   },
   "file_extension": ".py",
   "mimetype": "text/x-python",
   "name": "python",
   "nbconvert_exporter": "python",
   "pygments_lexer": "ipython3",
   "version": "3.8.0"
  },
  "orig_nbformat": 4,
  "vscode": {
   "interpreter": {
    "hash": "898a950986d43450680efc03f9903704e020e6e6b23d64c62a66308a081cc53c"
   }
  }
 },
 "nbformat": 4,
 "nbformat_minor": 2
}
