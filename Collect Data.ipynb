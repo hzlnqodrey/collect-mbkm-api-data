{
 "cells": [
  {
   "attachments": {},
   "cell_type": "markdown",
   "metadata": {},
   "source": [
    "## Kernel: Python 3.8"
   ]
  },
  {
   "cell_type": "code",
   "execution_count": 1,
   "metadata": {},
   "outputs": [],
   "source": [
    "from dotenv import dotenv_values\n",
    "from datetime import timedelta, datetime\n",
    "\n",
    "import pandas as pd\n",
    "import requests\n",
    "import locale"
   ]
  },
  {
   "attachments": {},
   "cell_type": "markdown",
   "metadata": {},
   "source": [
    "## Get Authority"
   ]
  },
  {
   "cell_type": "code",
   "execution_count": 4,
   "metadata": {},
   "outputs": [
    {
     "name": "stdout",
     "output_type": "stream",
     "text": [
      "login to hazlanqodri2020work@gmail.com success\n"
     ]
    }
   ],
   "source": [
    "config = dotenv_values(\".env\") # get values from .env file\n",
    "locale.setlocale(locale.LC_ALL, \"id\") # set local language\n",
    "\n",
    "def login() -> str:\n",
    "    try:\n",
    "        url = 'https://api.kampusmerdeka.kemdikbud.go.id/user/auth/login/mbkm'\n",
    "        headers = {\n",
    "            'User-Agent': 'Mozilla/5.0 (Windows NT 10.0; Win64; x64) AppleWebKit/537.36 (KHTML, like Gecko) Chrome/108.0.0.0 Safari/537.36'\n",
    "        }\n",
    "        account = {\n",
    "            'email': config.get('EMAIL'),\n",
    "            'password': config.get('PASSWORD')\n",
    "        }\n",
    "        response = requests.post(url, json=account, headers=headers)\n",
    "        token = response.json()['data'].get('access_token')\n",
    "    \n",
    "    except Exception:\n",
    "        raise ValueError(response.json()[\"error\"][\"message\"])\n",
    "    \n",
    "    return token, account\n",
    "\n",
    "(token, account) = login()\n",
    "headers = dict()\n",
    "headers[\"Accept\"] = 'application/json'\n",
    "headers[\"Authorization\"] = f'Bearer {token}'\n",
    "headers[\"User-Agent\"] = 'Mozilla/5.0 (Windows NT 10.0; Win64; x64) AppleWebKit/537.36 (KHTML, like Gecko) Chrome/108.0.0.0 Safari/537.36'\n",
    "\n",
    "print(f'login to {account[\"email\"]} success')"
   ]
  },
  {
   "attachments": {},
   "cell_type": "markdown",
   "metadata": {},
   "source": [
    "## 1. Fetch ALL Mitra"
   ]
  },
  {
   "cell_type": "code",
   "execution_count": 5,
   "metadata": {},
   "outputs": [
    {
     "name": "stdout",
     "output_type": "stream",
     "text": [
      "[{'id': '6a7bbbab-7508-11ed-b2a2-1a198d2f4c14', 'name': '2D/3D Animator Intern', 'activity_name': 'BNI Digital Talent Thematic Internship', 'total': 13, 'start_duration': '2023-02-16T07:00:00+07:00', 'end_duration': '2023-06-30T07:00:00+07:00', 'start_registration': '2022-12-29T07:00:00+07:00', 'end_registration': '2023-01-20T07:00:00+07:00', 'credits_count': 20, 'activity_type': 'OFFLINE', 'location': 'Kota Jakarta Barat', 'location_kotakab_code': '016200', 'mitra_id': '1434cd57-6295-441a-898a-7294119a96d7', 'certified': True, 'logo': 'https://storage.googleapis.com/kampusmerdeka_kemdikbud_go_id/mitra/mitra_642f3ae3-5162-4f40-aba6-e0c819df5f56.jpg', 'mitra_name': 'BNI'}, {'id': '7659b95a-6429-11ed-b5cc-0a223dcf0f66', 'name': 'Academic Officers Intern', 'activity_name': 'Zenius Professionals Practice Program Angkatan 4', 'total': 6, 'start_duration': '2023-02-13T07:00:00+07:00', 'end_duration': '2023-06-30T07:00:00+07:00', 'start_registration': '2022-12-22T07:00:00+07:00', 'end_registration': '2023-01-27T07:00:00+07:00', 'credits_count': 20, 'activity_type': 'BLENDED', 'location': 'Kota Jakarta Selatan', 'location_kotakab_code': '016300', 'mitra_id': '261f4d66-aa98-41a5-a213-a079764411a7', 'certified': True, 'logo': 'https://storage.googleapis.com/kampusmerdeka_kemdikbud_go_id/mitra/mitra_344946d7-f9c2-4c1e-8af0-646114c7d8ad.png', 'mitra_name': 'Zenius'}, {'id': '3f356ec2-6fb0-11ed-a7a1-0278cb7f6574', 'name': 'Accounting Improvement', 'activity_name': 'Great ISS Internship Program (GETS Program)', 'total': 2, 'start_duration': '2023-02-10T07:00:00+07:00', 'end_duration': '2023-07-10T07:00:00+07:00', 'start_registration': '2022-12-01T07:00:00+07:00', 'end_registration': '2023-01-08T07:00:00+07:00', 'credits_count': 20, 'activity_type': 'OFFLINE', 'location': 'Kota Tangerang Selatan', 'location_kotakab_code': '286300', 'mitra_id': '0aed31ee-a13d-4467-b189-885f247aa6c0', 'certified': True, 'logo': 'https://storage.googleapis.com/kampusmerdeka_kemdikbud_go_id/mitra/mitra_0f2ff0f5-9860-45ed-8d64-857e7d2125f7.png', 'mitra_name': 'PT ISS Indonesia'}, {'id': '99c6bc1f-5c0d-11ed-8806-7a77835150ba', 'name': 'Accounting Intern', 'activity_name': '[MMN-JTSE] Pengembangan Bisnis Perusahaan melalui Optimalisasi Sumber Daya dan Analisa Peluang Improvement', 'total': 1, 'start_duration': '2023-02-16T07:00:00+07:00', 'end_duration': '2023-06-30T07:00:00+07:00', 'start_registration': '2022-12-15T07:00:00+07:00', 'end_registration': '2023-01-31T07:00:00+07:00', 'credits_count': 20, 'activity_type': 'OFFLINE', 'location': 'Kota Makassar', 'location_kotakab_code': '', 'mitra_id': '33c404bb-b227-4a65-85dc-9fe9cf434e1e', 'certified': True, 'logo': 'https://storage.googleapis.com/kampusmerdeka_kemdikbud_go_id/mitra/mitra_38539944-f328-4d58-bef3-1d8a97f607e4.jpg', 'mitra_name': 'Nusantara Infrastructure'}, {'id': 'c53f879e-6a30-11ed-8ebe-a6bfdab34a31', 'name': 'Accounting Officer', 'activity_name': 'Officer Development Program', 'total': 2, 'start_duration': '2023-02-13T07:00:00+07:00', 'end_duration': '2023-06-30T07:00:00+07:00', 'start_registration': '2022-12-01T07:00:00+07:00', 'end_registration': '2023-01-31T07:00:00+07:00', 'credits_count': 20, 'activity_type': 'OFFLINE', 'location': 'Kota Jakarta Selatan', 'location_kotakab_code': '016300', 'mitra_id': '8816b5f5-7f39-459c-ba0c-86996423c5e5', 'certified': True, 'logo': 'https://storage.googleapis.com/kampusmerdeka_kemdikbud_go_id/mitra/mitra_629f2eb8-a747-4cee-a5c3-e27c8a8ec63e.png', 'mitra_name': 'PT Bumitama Gunajaya Agro'}, {'id': '02aaaa53-60b4-11ed-aaab-4a119f027d25', 'name': 'Accounting Officer - Jakarta (Head Office)', 'activity_name': 'ASTERIEX IV : First Journey to Become ASSA SPEED Racers!', 'total': 2, 'start_duration': '2023-02-10T07:00:00+07:00', 'end_duration': '2023-06-10T07:00:00+07:00', 'start_registration': '2022-11-15T07:00:00+07:00', 'end_registration': '2023-01-20T07:00:00+07:00', 'credits_count': 20, 'activity_type': 'OFFLINE', 'location': 'Kota Jakarta Utara', 'location_kotakab_code': '016100', 'mitra_id': '631c1888-6d99-43db-bfff-086dafc150c3', 'certified': True, 'logo': 'https://storage.googleapis.com/kampusmerdeka_kemdikbud_go_id/mitra/mitra_e9d9b6c8-552b-47fd-a9da-24b9557bb28b.png', 'mitra_name': 'ASSA'}, {'id': 'a901972d-54d3-11ed-a443-0a3963f6cf56', 'name': 'Accounting & Tax Intern', 'activity_name': 'Nusantara All Division ', 'total': 2, 'start_duration': '2023-02-16T07:00:00+07:00', 'end_duration': '2023-06-30T07:00:00+07:00', 'start_registration': '2022-12-15T07:00:00+07:00', 'end_registration': '2023-02-11T07:00:00+07:00', 'credits_count': 20, 'activity_type': 'OFFLINE', 'location': 'Kota Jakarta Selatan', 'location_kotakab_code': '', 'mitra_id': '33c404bb-b227-4a65-85dc-9fe9cf434e1e', 'certified': True, 'logo': 'https://storage.googleapis.com/kampusmerdeka_kemdikbud_go_id/mitra/mitra_38539944-f328-4d58-bef3-1d8a97f607e4.jpg', 'mitra_name': 'Nusantara Infrastructure'}, {'id': '381b0795-60ba-11ed-aaab-4a119f027d25', 'name': 'Account Payable Officer - Jakarta (Head Office)', 'activity_name': 'ASTERIEX IV : First Journey to Become ASSA SPEED Racers!', 'total': 1, 'start_duration': '2023-02-10T07:00:00+07:00', 'end_duration': '2023-06-10T07:00:00+07:00', 'start_registration': '2022-11-15T07:00:00+07:00', 'end_registration': '2023-01-20T07:00:00+07:00', 'credits_count': 20, 'activity_type': 'OFFLINE', 'location': 'Kota Jakarta Utara', 'location_kotakab_code': '016100', 'mitra_id': '631c1888-6d99-43db-bfff-086dafc150c3', 'certified': True, 'logo': 'https://storage.googleapis.com/kampusmerdeka_kemdikbud_go_id/mitra/mitra_e9d9b6c8-552b-47fd-a9da-24b9557bb28b.png', 'mitra_name': 'ASSA'}, {'id': '064d92bb-6fb6-11ed-b6f6-62d54cabf853', 'name': 'Administrasi dan Keuangan', 'activity_name': 'Improving Performance Skill Through Project Management', 'total': 10, 'start_duration': '2023-02-10T07:00:00+07:00', 'end_duration': '2023-07-10T07:00:00+07:00', 'start_registration': '2022-12-01T07:00:00+07:00', 'end_registration': '2023-01-20T07:00:00+07:00', 'credits_count': 20, 'activity_type': 'OFFLINE', 'location': 'Batola dan Banjarmasin Kalimantan Selatan', 'location_kotakab_code': '', 'mitra_id': '054b69c6-e415-4e06-be7f-491f672a68b0', 'certified': True, 'logo': 'https://storage.googleapis.com/kampusmerdeka_kemdikbud_go_id/mitra/mitra_36c92668-9a5e-4ef2-89e6-717e1c387010.png', 'mitra_name': 'YHC QuIP (Quality Internship Program)'}, {'id': 'e8429b8e-7062-11ed-8312-feb214c74b66', 'name': 'Administration', 'activity_name': 'Smart Cities & Smart enterprises: Co-Creation Solution & Innovation Development Internship Programs ', 'total': 3, 'start_duration': '2023-02-16T07:00:00+07:00', 'end_duration': '2023-06-30T07:00:00+07:00', 'start_registration': '2022-12-29T07:00:00+07:00', 'end_registration': '2023-01-31T07:00:00+07:00', 'credits_count': 20, 'activity_type': 'OFFLINE', 'location': 'Kota Jakarta Selatan', 'location_kotakab_code': '016300', 'mitra_id': '1d463f4f-bcd8-4125-87a9-e0c00f5328dc', 'certified': True, 'logo': 'https://storage.googleapis.com/kampusmerdeka_kemdikbud_go_id/mitra/mitra_53530d4e-b597-4989-ba93-d03aeb8da921.png', 'mitra_name': 'Citiasia Inc.'}, {'id': 'ee3da637-64e4-11ed-b74d-2af064b3727d', 'name': 'Administrative Assistant Intern (for Sekolah 4.0 Program)', 'activity_name': ' Orbit 4 Indonesia Internship Program', 'total': 1, 'start_duration': '2023-02-10T07:00:00+07:00', 'end_duration': '2023-07-10T07:00:00+07:00', 'start_registration': '2022-11-15T07:00:00+07:00', 'end_registration': '2023-01-08T07:00:00+07:00', 'credits_count': 20, 'activity_type': 'OFFLINE', 'location': 'Kota Jakarta Selatan', 'location_kotakab_code': '016300', 'mitra_id': '0be8abbc-2642-42b4-9ca5-4d33f4704a94', 'certified': True, 'logo': 'https://storage.googleapis.com/kampusmerdeka_kemdikbud_go_id/mitra/mitra_58c94cca-97a8-4618-a010-5296281e0222.jpg', 'mitra_name': 'Orbit Future Academy'}, {'id': 'b3b696ac-6175-11ed-9958-e6768c594c9c', 'name': 'Admin Operation Officer  - JBA (Jakarta)', 'activity_name': 'ASTERIEX IV : First Journey to Become ASSA SPEED Racers!', 'total': 2, 'start_duration': '2023-02-10T07:00:00+07:00', 'end_duration': '2023-06-10T07:00:00+07:00', 'start_registration': '2022-11-15T07:00:00+07:00', 'end_registration': '2023-01-20T07:00:00+07:00', 'credits_count': 20, 'activity_type': 'OFFLINE', 'location': 'Kota Jakarta Utara', 'location_kotakab_code': '016100', 'mitra_id': '631c1888-6d99-43db-bfff-086dafc150c3', 'certified': True, 'logo': 'https://storage.googleapis.com/kampusmerdeka_kemdikbud_go_id/mitra/mitra_e9d9b6c8-552b-47fd-a9da-24b9557bb28b.png', 'mitra_name': 'ASSA'}, {'id': 'ecb3210d-60d8-11ed-aaab-4a119f027d25', 'name': 'Admin Seller Officer - JBA (Jakarta)', 'activity_name': 'ASTERIEX IV : First Journey to Become ASSA SPEED Racers!', 'total': 1, 'start_duration': '2023-02-10T07:00:00+07:00', 'end_duration': '2023-06-10T07:00:00+07:00', 'start_registration': '2022-11-15T07:00:00+07:00', 'end_registration': '2023-01-20T07:00:00+07:00', 'credits_count': 20, 'activity_type': 'OFFLINE', 'location': 'Kota Jakarta Utara', 'location_kotakab_code': '016100', 'mitra_id': '631c1888-6d99-43db-bfff-086dafc150c3', 'certified': True, 'logo': 'https://storage.googleapis.com/kampusmerdeka_kemdikbud_go_id/mitra/mitra_e9d9b6c8-552b-47fd-a9da-24b9557bb28b.png', 'mitra_name': 'ASSA'}, {'id': '03236732-670c-11ed-98f0-d6bd1ff96cc1', 'name': 'Admin Tax Intern', 'activity_name': 'Lets Grow with Erajaya', 'total': 2, 'start_duration': '2023-02-16T07:00:00+07:00', 'end_duration': '2023-06-16T07:00:00+07:00', 'start_registration': '2022-12-23T07:00:00+07:00', 'end_registration': '2023-01-31T07:00:00+07:00', 'credits_count': 20, 'activity_type': 'OFFLINE', 'location': 'Kota Jakarta Barat', 'location_kotakab_code': '016200', 'mitra_id': 'a748af00-6fc5-44c8-a820-fda83886973c', 'certified': True, 'logo': 'https://storage.googleapis.com/kampusmerdeka_kemdikbud_go_id/mitra/mitra_4b68b978-babc-4555-b29d-ac9ca4fe7af5.png', 'mitra_name': 'Erajaya'}, {'id': '1892f030-64e4-11ed-bf50-124073a7b39a', 'name': 'Admission Intern', 'activity_name': ' Orbit 4 Indonesia Internship Program', 'total': 2, 'start_duration': '2023-02-10T07:00:00+07:00', 'end_duration': '2023-07-10T07:00:00+07:00', 'start_registration': '2022-11-15T07:00:00+07:00', 'end_registration': '2023-01-08T07:00:00+07:00', 'credits_count': 20, 'activity_type': 'OFFLINE', 'location': 'Kota Jakarta Selatan', 'location_kotakab_code': '016300', 'mitra_id': '0be8abbc-2642-42b4-9ca5-4d33f4704a94', 'certified': True, 'logo': 'https://storage.googleapis.com/kampusmerdeka_kemdikbud_go_id/mitra/mitra_58c94cca-97a8-4618-a010-5296281e0222.jpg', 'mitra_name': 'Orbit Future Academy'}, {'id': 'c3d24ae8-81be-11ed-afe6-e28bf6b6d14d', 'name': 'Affiliate Partnership & Sales', 'activity_name': 'Vocasia Internship Professional Edutech Program', 'total': 20, 'start_duration': '2023-02-10T07:00:00+07:00', 'end_duration': '2023-06-10T07:00:00+07:00', 'start_registration': '2022-12-28T07:00:00+07:00', 'end_registration': '2023-01-20T07:00:00+07:00', 'credits_count': 20, 'activity_type': 'OFFLINE', 'location': 'Kota Jakarta Timur', 'location_kotakab_code': '016400', 'mitra_id': '77cde2f6-fa33-4932-8847-83b3414b1877', 'certified': True, 'logo': 'https://storage.googleapis.com/kampusmerdeka_kemdikbud_go_id/mitra/mitra_47596fd8-2b46-4ad8-8a00-392d7c8107a2.png', 'mitra_name': 'VOCASIA'}, {'id': '45be6e8f-6fbc-11ed-83fd-7e8ddab09462', 'name': 'Agribusiness Intern', 'activity_name': 'Petrokimia Undergraduate Apprenticeship Program Cycle 4', 'total': 2, 'start_duration': '2023-02-16T07:00:00+07:00', 'end_duration': '2023-06-30T07:00:00+07:00', 'start_registration': '2022-12-20T07:00:00+07:00', 'end_registration': '2023-01-06T07:00:00+07:00', 'credits_count': 20, 'activity_type': 'OFFLINE', 'location': 'Kab. Gresik', 'location_kotakab_code': '050100', 'mitra_id': 'bc27aac3-8e3f-4016-9b18-cdbfa26746d8', 'certified': True, 'logo': 'https://storage.googleapis.com/kampusmerdeka_kemdikbud_go_id/mitra/mitra_87fed9ce-8cc7-4c55-8727-1c02a5030d20.png', 'mitra_name': 'PT Petrokimia Gresik'}, {'id': 'ac152b52-6faf-11ed-9576-62d54cabf853', 'name': 'Agricultural Researcher Intern', 'activity_name': 'Petrokimia Undergraduate Apprenticeship Program Cycle 4', 'total': 6, 'start_duration': '2023-02-16T07:00:00+07:00', 'end_duration': '2023-06-30T07:00:00+07:00', 'start_registration': '2022-12-20T07:00:00+07:00', 'end_registration': '2023-01-06T07:00:00+07:00', 'credits_count': 20, 'activity_type': 'OFFLINE', 'location': 'Kab. Gresik', 'location_kotakab_code': '050100', 'mitra_id': 'bc27aac3-8e3f-4016-9b18-cdbfa26746d8', 'certified': True, 'logo': 'https://storage.googleapis.com/kampusmerdeka_kemdikbud_go_id/mitra/mitra_87fed9ce-8cc7-4c55-8727-1c02a5030d20.png', 'mitra_name': 'PT Petrokimia Gresik'}, {'id': 'cb74cae0-6a45-11ed-98e1-a2c3ec1c6e84', 'name': 'Agronomy Assistant', 'activity_name': 'Planter Development Program', 'total': 50, 'start_duration': '2023-02-06T07:00:00+07:00', 'end_duration': '2023-06-30T07:00:00+07:00', 'start_registration': '2022-12-01T07:00:00+07:00', 'end_registration': '2023-01-15T07:00:00+07:00', 'credits_count': 20, 'activity_type': 'OFFLINE', 'location': 'Kab. Kotawaringin Timur', 'location_kotakab_code': '140400', 'mitra_id': '8816b5f5-7f39-459c-ba0c-86996423c5e5', 'certified': True, 'logo': 'https://storage.googleapis.com/kampusmerdeka_kemdikbud_go_id/mitra/mitra_629f2eb8-a747-4cee-a5c3-e27c8a8ec63e.png', 'mitra_name': 'PT Bumitama Gunajaya Agro'}]\n"
     ]
    }
   ],
   "source": [
    "url = f'https://api.kampusmerdeka.kemdikbud.go.id/magang/browse/position?offset=0&limit=20&location_key=&mitra_key=&keyword=&sector_id='\n",
    "response = requests.get(url, headers=headers)\n",
    "reports = response.json().get('data')\n",
    "\n",
    "print(reports)"
   ]
  }
 ],
 "metadata": {
  "kernelspec": {
   "display_name": "Python 3",
   "language": "python",
   "name": "python3"
  },
  "language_info": {
   "codemirror_mode": {
    "name": "ipython",
    "version": 3
   },
   "file_extension": ".py",
   "mimetype": "text/x-python",
   "name": "python",
   "nbconvert_exporter": "python",
   "pygments_lexer": "ipython3",
   "version": "3.8.0"
  },
  "orig_nbformat": 4,
  "vscode": {
   "interpreter": {
    "hash": "898a950986d43450680efc03f9903704e020e6e6b23d64c62a66308a081cc53c"
   }
  }
 },
 "nbformat": 4,
 "nbformat_minor": 2
}
