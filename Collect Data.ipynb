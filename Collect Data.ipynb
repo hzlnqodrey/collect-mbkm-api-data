{
 "cells": [
  {
   "attachments": {},
   "cell_type": "markdown",
   "metadata": {},
   "source": [
    "## Kernel: Python 3.8"
   ]
  },
  {
   "cell_type": "code",
   "execution_count": 1,
   "metadata": {},
   "outputs": [],
   "source": [
    "from dotenv import dotenv_values\n",
    "from datetime import timedelta, datetime\n",
    "\n",
    "import pandas as pd\n",
    "import requests\n",
    "import locale"
   ]
  },
  {
   "attachments": {},
   "cell_type": "markdown",
   "metadata": {},
   "source": [
    "## Get Authority"
   ]
  },
  {
   "cell_type": "code",
   "execution_count": 2,
   "metadata": {},
   "outputs": [
    {
     "name": "stdout",
     "output_type": "stream",
     "text": [
      "login success\n"
     ]
    }
   ],
   "source": [
    "config = dotenv_values(\".env\") # get values from .env file\n",
    "locale.setlocale(locale.LC_ALL, \"id\") # set local language\n",
    "\n",
    "def login() -> str:\n",
    "    try:\n",
    "        url = 'https://api.kampusmerdeka.kemdikbud.go.id/user/auth/login/mbkm'\n",
    "        headers = {\n",
    "            'User-Agent': 'Mozilla/5.0 (Windows NT 10.0; Win64; x64) AppleWebKit/537.36 (KHTML, like Gecko) Chrome/108.0.0.0 Safari/537.36'\n",
    "        }\n",
    "        account = {\n",
    "            'email': config.get('EMAIL'),\n",
    "            'password': config.get('PASSWORD')\n",
    "        }\n",
    "        response = requests.post(url, json=account, headers=headers)\n",
    "        token = response.json()['data'].get('access_token')\n",
    "    \n",
    "    except Exception:\n",
    "        raise ValueError(response.json()[\"error\"][\"message\"])\n",
    "    \n",
    "    return token, account\n",
    "\n",
    "(token, account) = login()\n",
    "headers = dict()\n",
    "headers[\"Accept\"] = 'application/json'\n",
    "headers[\"Authorization\"] = f'Bearer {token}'\n",
    "headers[\"User-Agent\"] = 'Mozilla/5.0 (Windows NT 10.0; Win64; x64) AppleWebKit/537.36 (KHTML, like Gecko) Chrome/108.0.0.0 Safari/537.36'\n",
    "\n",
    "print(f'login success')"
   ]
  },
  {
   "attachments": {},
   "cell_type": "markdown",
   "metadata": {},
   "source": [
    "## 1. Fetch ALL Mitra (Raw & Test)"
   ]
  },
  {
   "cell_type": "code",
   "execution_count": null,
   "metadata": {},
   "outputs": [],
   "source": [
    "url = f'https://api.kampusmerdeka.kemdikbud.go.id/magang/browse/position?offset=0&limit=10000&location_key=&mitra_key=&keyword=&sector_id='\n",
    "response = requests.get(url, headers=headers)\n",
    "reports = response.json().get('data')\n",
    "\n",
    "print(reports)"
   ]
  },
  {
   "attachments": {},
   "cell_type": "markdown",
   "metadata": {},
   "source": [
    "## 2. Process Data FULL"
   ]
  },
  {
   "cell_type": "code",
   "execution_count": 11,
   "metadata": {},
   "outputs": [],
   "source": [
    "url = f'https://api.kampusmerdeka.kemdikbud.go.id/magang/browse/position?offset=0&limit=10000&location_key=&mitra_key=&keyword=&sector_id='\n",
    "response = requests.get(url, headers=headers)\n",
    "mitra_data = response.json().get('data')\n",
    "\n",
    "#===== List Initialization\n",
    "id_position_cols = []\n",
    "position_name_cols = []\n",
    "mitra_name_cols = []\n",
    "activity_name_cols = []\n",
    "position_quota_cols = []\n",
    "location_cols = []\n",
    "activity_type_cols = []\n",
    "logo_mitra_cols = []\n",
    "\n",
    "# TODO: EXTRA FIELDS\n",
    "start_duration_cols = []\n",
    "end_duration_cols = []\n",
    "start_registration_cols = []\n",
    "end_registration_cols = []\n",
    "credits_count_cols = []\n",
    "location_code_cols = []\n",
    "mitra_id_cols = []\n",
    "certified_cols = []\n",
    "\n",
    "Nomor_Mitra_cols = []\n",
    "Nomor_Mitra = 1\n",
    "\n",
    "for mitra_data_detail in mitra_data:\n",
    "    #===== fetch data from mitra_data_detail dict in mitra_data list\n",
    "    id_position = mitra_data_detail[\"id\"]\n",
    "    position_name = mitra_data_detail[\"name\"]\n",
    "    mitra_name = mitra_data_detail[\"mitra_name\"]\n",
    "    activity_name = mitra_data_detail[\"activity_name\"]\n",
    "    position_quota = mitra_data_detail[\"total\"]\n",
    "    location = mitra_data_detail[\"location\"]\n",
    "    activity_type = mitra_data_detail[\"activity_type\"]\n",
    "    logo_mitra = mitra_data_detail[\"logo\"]\n",
    "\n",
    "    # DONE: EXTRA FIELDS\n",
    "    start_duration = mitra_data_detail[\"start_duration\"]\n",
    "    end_duration = mitra_data_detail[\"end_duration\"]\n",
    "    start_registration = mitra_data_detail[\"start_registration\"]\n",
    "    end_registration = mitra_data_detail[\"end_registration\"]\n",
    "    credits_count = mitra_data_detail[\"credits_count\"]\n",
    "    location_code = mitra_data_detail[\"location_kotakab_code\"]\n",
    "    mitra_id = mitra_data_detail[\"mitra_id\"]\n",
    "    certified = mitra_data_detail[\"certified\"]\n",
    "\n",
    "    \n",
    "\n",
    "    #===== Append Data\n",
    "    Nomor_Mitra_cols.append(Nomor_Mitra)\n",
    "    id_position_cols.append(id_position)\n",
    "    position_name_cols.append(position_name)\n",
    "    mitra_name_cols.append(mitra_name)\n",
    "    activity_name_cols.append(activity_name)\n",
    "    position_quota_cols.append(position_quota)\n",
    "    location_cols.append(location)\n",
    "    activity_type_cols.append(activity_type)\n",
    "    logo_mitra_cols.append(logo_mitra)\n",
    "\n",
    "    # DONE: EXTRA FIELDS\n",
    "    start_duration_cols.append(start_duration)\n",
    "    end_duration_cols.append(end_duration)\n",
    "    start_registration_cols.append(start_registration)\n",
    "    end_registration_cols.append(end_registration)\n",
    "    credits_count_cols.append(credits_count)\n",
    "    location_code_cols.append(location_code)\n",
    "    mitra_id_cols.append(mitra_id)\n",
    "    certified_cols.append(certified)\n",
    "\n",
    "    Nomor_Mitra += 1\n",
    "\n",
    "#===== Convert Data to DataFrame\n",
    "mitra_data_df_full = pd.DataFrame({\n",
    "    \"Nomor_Mitra\": Nomor_Mitra_cols,\n",
    "    \"ID_Posisi\": id_position_cols,\n",
    "    \"Nama_Posisi\": position_name_cols,\n",
    "    \"Nama_Mitra\": mitra_name_cols,\n",
    "    \"Nama_Kegiatan\": activity_name_cols,\n",
    "    \"Kuota_Posisi\": position_quota_cols,\n",
    "    \"Lokasi_Bekerja\": location_cols,\n",
    "    \"Tipe_Aktivitas\": activity_type_cols,\n",
    "    \"URL_Logo\": logo_mitra_cols,\n",
    "\n",
    "    # DONE: EXTRA FIELDS\n",
    "    \"Mulai_Periode\": start_duration_cols,\n",
    "    \"Berakhir_Periode\": end_duration_cols,\n",
    "    \"Mulai_Pendaftaran\": start_registration_cols,\n",
    "    \"Berakhir_Pendaftaran\": end_registration_cols,\n",
    "    \"SKS_Diberikan\": credits_count_cols,\n",
    "    \"Kode_Lokasi\": location_code_cols,\n",
    "    \"ID_Mitra\": mitra_id_cols,\n",
    "    \"Kegiatan_Bersertifikat\": certified_cols\n",
    "})\n"
   ]
  },
  {
   "attachments": {},
   "cell_type": "markdown",
   "metadata": {},
   "source": [
    "## 2. Process Data COMPACT"
   ]
  },
  {
   "cell_type": "code",
   "execution_count": 3,
   "metadata": {},
   "outputs": [],
   "source": [
    "url = f'https://api.kampusmerdeka.kemdikbud.go.id/magang/browse/position?offset=0&limit=10000&location_key=&mitra_key=&keyword=&sector_id='\n",
    "response = requests.get(url, headers=headers)\n",
    "mitra_data = response.json().get('data')\n",
    "\n",
    "Nomor_Mitra_cols = []\n",
    "Nomor_Mitra = 1\n",
    "id_position_cols = []\n",
    "position_name_cols = []\n",
    "mitra_name_cols = []\n",
    "id_mitra_cols = []\n",
    "activity_name_cols = []\n",
    "position_quota_cols = []\n",
    "location_cols = []\n",
    "activity_type_cols = []\n",
    "logo_mitra_cols = []\n",
    "\n",
    "for mitra_data_detail in mitra_data:\n",
    "    # fetch data from mitra_data_detail dict in mitra_data list\n",
    "    id_position = mitra_data_detail[\"id\"]\n",
    "    position_name = mitra_data_detail[\"name\"]\n",
    "    mitra_name = mitra_data_detail[\"mitra_name\"]\n",
    "    id_mitra = mitra_data_detail[\"mitra_id\"]\n",
    "    activity_name = mitra_data_detail[\"activity_name\"]\n",
    "    position_quota = mitra_data_detail[\"total\"]\n",
    "    location = mitra_data_detail[\"location\"]\n",
    "    activity_type = mitra_data_detail[\"activity_type\"]\n",
    "    logo_mitra = mitra_data_detail[\"logo\"]\n",
    "\n",
    "    # Append Data\n",
    "    Nomor_Mitra_cols.append(Nomor_Mitra)\n",
    "    id_position_cols.append(id_position)\n",
    "    position_name_cols.append(position_name)\n",
    "    mitra_name_cols.append(mitra_name)\n",
    "    id_mitra_cols.append(id_mitra)\n",
    "    activity_name_cols.append(activity_name)\n",
    "    position_quota_cols.append(position_quota)\n",
    "    location_cols.append(location)\n",
    "    activity_type_cols.append(activity_type)\n",
    "    logo_mitra_cols.append(logo_mitra)\n",
    "\n",
    "    Nomor_Mitra += 1\n",
    "\n",
    "\n",
    "mitra_data_df_compact = pd.DataFrame({\n",
    "    \"no_mitra\": Nomor_Mitra_cols,\n",
    "    \"id_posisi\": id_position_cols,\n",
    "    \"nama_posisi\": position_name_cols,\n",
    "    \"nama_mitra\": mitra_name_cols,\n",
    "    \"id_mitra\": id_mitra_cols,\n",
    "    \"nama_kegiatan\": activity_name_cols,\n",
    "    \"kuota_posisi\": position_quota_cols,\n",
    "    \"lokasi_kerja\": location_cols,\n",
    "    \"tipe_aktivitas\": activity_type_cols,\n",
    "    \"url_logo\": logo_mitra_cols,\n",
    "})\n"
   ]
  },
  {
   "cell_type": "code",
   "execution_count": 12,
   "metadata": {},
   "outputs": [
    {
     "name": "stdout",
     "output_type": "stream",
     "text": [
      "<class 'pandas.core.frame.DataFrame'>\n",
      "RangeIndex: 2409 entries, 0 to 2408\n",
      "Data columns (total 17 columns):\n",
      " #   Column                  Non-Null Count  Dtype \n",
      "---  ------                  --------------  ----- \n",
      " 0   Nomor_Mitra             2409 non-null   int64 \n",
      " 1   ID_Posisi               2409 non-null   object\n",
      " 2   Nama_Posisi             2409 non-null   object\n",
      " 3   Nama_Mitra              2409 non-null   object\n",
      " 4   Nama_Kegiatan           2409 non-null   object\n",
      " 5   Kuota_Posisi            2409 non-null   int64 \n",
      " 6   Lokasi_Bekerja          2409 non-null   object\n",
      " 7   Tipe_Aktivitas          2409 non-null   object\n",
      " 8   URL_Logo                2409 non-null   object\n",
      " 9   Mulai_Periode           2409 non-null   object\n",
      " 10  Berakhir_Periode        2409 non-null   object\n",
      " 11  Mulai_Pendaftaran       2409 non-null   object\n",
      " 12  Berakhir_Pendaftaran    2409 non-null   object\n",
      " 13  SKS_Diberikan           2409 non-null   int64 \n",
      " 14  Kode_Lokasi             2409 non-null   object\n",
      " 15  ID_Mitra                2409 non-null   object\n",
      " 16  Kegiatan_Bersertifikat  2409 non-null   bool  \n",
      "dtypes: bool(1), int64(3), object(13)\n",
      "memory usage: 303.6+ KB\n"
     ]
    }
   ],
   "source": [
    "mitra_data_df_full.info()"
   ]
  },
  {
   "cell_type": "code",
   "execution_count": 5,
   "metadata": {},
   "outputs": [
    {
     "name": "stdout",
     "output_type": "stream",
     "text": [
      "<class 'pandas.core.frame.DataFrame'>\n",
      "RangeIndex: 2410 entries, 0 to 2409\n",
      "Data columns (total 10 columns):\n",
      " #   Column          Non-Null Count  Dtype \n",
      "---  ------          --------------  ----- \n",
      " 0   no_mitra        2410 non-null   int64 \n",
      " 1   id_posisi       2410 non-null   object\n",
      " 2   nama_posisi     2410 non-null   object\n",
      " 3   nama_mitra      2410 non-null   object\n",
      " 4   id_mitra        2410 non-null   object\n",
      " 5   nama_kegiatan   2410 non-null   object\n",
      " 6   kuota_posisi    2410 non-null   int64 \n",
      " 7   lokasi_kerja    2410 non-null   object\n",
      " 8   tipe_aktivitas  2410 non-null   object\n",
      " 9   url_logo        2410 non-null   object\n",
      "dtypes: int64(2), object(8)\n",
      "memory usage: 188.4+ KB\n"
     ]
    }
   ],
   "source": [
    "mitra_data_df_compact.info()"
   ]
  },
  {
   "cell_type": "code",
   "execution_count": 7,
   "metadata": {},
   "outputs": [
    {
     "data": {
      "text/html": [
       "<div>\n",
       "<style scoped>\n",
       "    .dataframe tbody tr th:only-of-type {\n",
       "        vertical-align: middle;\n",
       "    }\n",
       "\n",
       "    .dataframe tbody tr th {\n",
       "        vertical-align: top;\n",
       "    }\n",
       "\n",
       "    .dataframe thead th {\n",
       "        text-align: right;\n",
       "    }\n",
       "</style>\n",
       "<table border=\"1\" class=\"dataframe\">\n",
       "  <thead>\n",
       "    <tr style=\"text-align: right;\">\n",
       "      <th></th>\n",
       "      <th>no_mitra</th>\n",
       "      <th>id_posisi</th>\n",
       "      <th>nama_posisi</th>\n",
       "      <th>nama_mitra</th>\n",
       "      <th>id_mitra</th>\n",
       "      <th>nama_kegiatan</th>\n",
       "      <th>kuota_posisi</th>\n",
       "      <th>lokasi_kerja</th>\n",
       "      <th>tipe_aktivitas</th>\n",
       "      <th>url_logo</th>\n",
       "    </tr>\n",
       "  </thead>\n",
       "  <tbody>\n",
       "  </tbody>\n",
       "</table>\n",
       "</div>"
      ],
      "text/plain": [
       "Empty DataFrame\n",
       "Columns: [no_mitra, id_posisi, nama_posisi, nama_mitra, id_mitra, nama_kegiatan, kuota_posisi, lokasi_kerja, tipe_aktivitas, url_logo]\n",
       "Index: []"
      ]
     },
     "execution_count": 7,
     "metadata": {},
     "output_type": "execute_result"
    }
   ],
   "source": [
    "mitra_data_df_compact[mitra_data_df_compact.isna().any(axis=1)]"
   ]
  },
  {
   "cell_type": "code",
   "execution_count": null,
   "metadata": {},
   "outputs": [],
   "source": [
    "data = pd.read_csv('./app/DATA/COMPACT/compact.csv')\n"
   ]
  },
  {
   "cell_type": "code",
   "execution_count": null,
   "metadata": {},
   "outputs": [],
   "source": [
    "mitra_data_df_full"
   ]
  },
  {
   "attachments": {},
   "cell_type": "markdown",
   "metadata": {},
   "source": [
    "## 3. Output Files [CSV and EXCEL]"
   ]
  },
  {
   "cell_type": "code",
   "execution_count": 4,
   "metadata": {},
   "outputs": [
    {
     "name": "stdout",
     "output_type": "stream",
     "text": [
      "=== Output File Types ===\n",
      "1. CSV\n",
      "2. Excel\n",
      "Creating CSV with a file name suffix `- data mitra mbkm`\n"
     ]
    }
   ],
   "source": [
    "def output_files(df: pd.DataFrame):\n",
    "    output_types = [\"CSV\", \"Excel\"]\n",
    "    \n",
    "    print(\"=== Output File Types ===\")\n",
    "    \n",
    "    for i in range(len(output_types)):\n",
    "        format_name = output_types[i]\n",
    "        print(f'{i+1}. {format_name}')\n",
    "    \n",
    "    choose_number = int(input(\"Pilih format file untuk mengekspor dataframe: \")) - 1\n",
    "\n",
    "    now = datetime.now()\n",
    "    # dd-mm-YY H.M\n",
    "    dt_string = now.strftime(\"%d-%m-%Y %H.%M\")\n",
    "\n",
    "    if choose_number == 0:\n",
    "        filename = './' + dt_string + ' - data mitra mbkm.csv'\n",
    "        df.to_csv(filename, index=False)\n",
    "    elif choose_number == 1:\n",
    "        filename = './' + dt_string + ' - data mitra mbkm.xlsx'\n",
    "        df.to_excel(filename, index=False)\n",
    "    else:\n",
    "        raise ValueError(\"Not a valid input\")\n",
    "\n",
    "    print(f\"Creating {output_types[choose_number]} with a file name suffix `- data mitra mbkm`\")\n",
    "\n",
    "output_files(mitra_data_df_compact)"
   ]
  },
  {
   "attachments": {},
   "cell_type": "markdown",
   "metadata": {},
   "source": [
    "## 4. Output Files [JSON]"
   ]
  },
  {
   "cell_type": "code",
   "execution_count": 14,
   "metadata": {},
   "outputs": [],
   "source": [
    "import json\n",
    "\n",
    "def output_files_json(df: pd.DataFrame):\n",
    "    now = datetime.now()\n",
    "    # dd-mm-YY H.M\n",
    "    dt_string = now.strftime(\"%d-%m-%Y %H.%M\")\n",
    "    filename = './' + dt_string + ' - data mitra mbkm.json'\n",
    "    df.to_json(filename, orient=\"records\")\n",
    "\n",
    "output_files_json(mitra_data_df_compact)"
   ]
  },
  {
   "attachments": {},
   "cell_type": "markdown",
   "metadata": {},
   "source": [
    "## Extra: 1. Time Config"
   ]
  },
  {
   "cell_type": "code",
   "execution_count": null,
   "metadata": {},
   "outputs": [],
   "source": [
    "from datetime import datetime\n",
    "\n",
    "# datetime object containing current date and time\n",
    "now = datetime.now()\n",
    "\n",
    "print(\"now =\", now)\n",
    "\n",
    "# dd-mm-YY H.M\n",
    "dt_string = now.strftime(\"%d-%m-%Y %H.%M\")\n",
    "filename ='./' + dt_string + ' - data mitra mbkm.csv'\n",
    "print(\"date and time =\", filename)"
   ]
  }
 ],
 "metadata": {
  "kernelspec": {
   "display_name": "Python 3",
   "language": "python",
   "name": "python3"
  },
  "language_info": {
   "codemirror_mode": {
    "name": "ipython",
    "version": 3
   },
   "file_extension": ".py",
   "mimetype": "text/x-python",
   "name": "python",
   "nbconvert_exporter": "python",
   "pygments_lexer": "ipython3",
   "version": "3.8.0"
  },
  "orig_nbformat": 4,
  "vscode": {
   "interpreter": {
    "hash": "898a950986d43450680efc03f9903704e020e6e6b23d64c62a66308a081cc53c"
   }
  }
 },
 "nbformat": 4,
 "nbformat_minor": 2
}
