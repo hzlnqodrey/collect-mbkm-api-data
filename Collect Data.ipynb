{
 "cells": [
  {
   "attachments": {},
   "cell_type": "markdown",
   "metadata": {},
   "source": [
    "## Kernel: Python 3.8"
   ]
  },
  {
   "cell_type": "code",
   "execution_count": 1,
   "metadata": {},
   "outputs": [],
   "source": [
    "from dotenv import dotenv_values\n",
    "from datetime import timedelta, datetime\n",
    "\n",
    "import pandas as pd\n",
    "import requests\n",
    "import locale"
   ]
  },
  {
   "attachments": {},
   "cell_type": "markdown",
   "metadata": {},
   "source": [
    "## Get Authority"
   ]
  },
  {
   "cell_type": "code",
   "execution_count": 4,
   "metadata": {},
   "outputs": [
    {
     "name": "stdout",
     "output_type": "stream",
     "text": [
      "login to hazlanqodri2020work@gmail.com success\n"
     ]
    }
   ],
   "source": [
    "config = dotenv_values(\".env\") # get values from .env file\n",
    "locale.setlocale(locale.LC_ALL, \"id\") # set local language\n",
    "\n",
    "def login() -> str:\n",
    "    try:\n",
    "        url = 'https://api.kampusmerdeka.kemdikbud.go.id/user/auth/login/mbkm'\n",
    "        headers = {\n",
    "            'User-Agent': 'Mozilla/5.0 (Windows NT 10.0; Win64; x64) AppleWebKit/537.36 (KHTML, like Gecko) Chrome/108.0.0.0 Safari/537.36'\n",
    "        }\n",
    "        account = {\n",
    "            'email': config.get('EMAIL'),\n",
    "            'password': config.get('PASSWORD')\n",
    "        }\n",
    "        response = requests.post(url, json=account, headers=headers)\n",
    "        token = response.json()['data'].get('access_token')\n",
    "    \n",
    "    except Exception:\n",
    "        raise ValueError(response.json()[\"error\"][\"message\"])\n",
    "    \n",
    "    return token, account\n",
    "\n",
    "(token, account) = login()\n",
    "headers = dict()\n",
    "headers[\"Accept\"] = 'application/json'\n",
    "headers[\"Authorization\"] = f'Bearer {token}'\n",
    "headers[\"User-Agent\"] = 'Mozilla/5.0 (Windows NT 10.0; Win64; x64) AppleWebKit/537.36 (KHTML, like Gecko) Chrome/108.0.0.0 Safari/537.36'\n",
    "\n",
    "print(f'login to {account[\"email\"]} success')"
   ]
  },
  {
   "attachments": {},
   "cell_type": "markdown",
   "metadata": {},
   "source": [
    "## 1. Fetch ALL Mitra (Raw & Test)"
   ]
  },
  {
   "cell_type": "code",
   "execution_count": null,
   "metadata": {},
   "outputs": [],
   "source": [
    "url = f'https://api.kampusmerdeka.kemdikbud.go.id/magang/browse/position?offset=0&limit=20&location_key=&mitra_key=&keyword=&sector_id='\n",
    "response = requests.get(url, headers=headers)\n",
    "reports = response.json().get('data')\n",
    "\n",
    "print(reports)"
   ]
  },
  {
   "attachments": {},
   "cell_type": "markdown",
   "metadata": {},
   "source": [
    "## 2. Process Data"
   ]
  },
  {
   "cell_type": "code",
   "execution_count": 19,
   "metadata": {},
   "outputs": [],
   "source": [
    "url = f'https://api.kampusmerdeka.kemdikbud.go.id/magang/browse/position?offset=0&limit=10000&location_key=&mitra_key=&keyword=&sector_id='\n",
    "response = requests.get(url, headers=headers)\n",
    "mitra_data = response.json().get('data')\n",
    "\n",
    "id_cols = []\n",
    "name_cols = []\n",
    "activity_name_cols = []\n",
    "quotas_cols = []\n",
    "\n",
    "for mitra_data_detail in mitra_data:\n",
    "    # fetch data from mitra_data_detail dict in mitra_data list\n",
    "    id = mitra_data_detail[\"id\"]\n",
    "    name = mitra_data_detail[\"name\"]\n",
    "    activity_name = mitra_data_detail[\"activity_name\"]\n",
    "    quotas = mitra_data_detail[\"total\"]\n",
    "\n",
    "    # Append Data\n",
    "    id_cols.append(id)\n",
    "    name_cols.append(name)\n",
    "    activity_name_cols.append(activity_name)\n",
    "    quotas_cols.append(quotas)\n",
    "\n",
    "mitra_data_df = pd.DataFrame({\n",
    "    \"id\": id_cols,\n",
    "    \"name\": name_cols,\n",
    "    \"activity_name\": activity_name_cols,\n",
    "    \"quotas\": quotas_cols\n",
    "})\n"
   ]
  },
  {
   "cell_type": "code",
   "execution_count": 20,
   "metadata": {},
   "outputs": [
    {
     "name": "stdout",
     "output_type": "stream",
     "text": [
      "<class 'pandas.core.frame.DataFrame'>\n",
      "RangeIndex: 710 entries, 0 to 709\n",
      "Data columns (total 4 columns):\n",
      " #   Column         Non-Null Count  Dtype \n",
      "---  ------         --------------  ----- \n",
      " 0   id             710 non-null    object\n",
      " 1   name           710 non-null    object\n",
      " 2   activity_name  710 non-null    object\n",
      " 3   quotas         710 non-null    int64 \n",
      "dtypes: int64(1), object(3)\n",
      "memory usage: 22.3+ KB\n"
     ]
    }
   ],
   "source": [
    "mitra_data_df.info()"
   ]
  },
  {
   "cell_type": "code",
   "execution_count": 18,
   "metadata": {},
   "outputs": [
    {
     "data": {
      "text/html": [
       "<div>\n",
       "<style scoped>\n",
       "    .dataframe tbody tr th:only-of-type {\n",
       "        vertical-align: middle;\n",
       "    }\n",
       "\n",
       "    .dataframe tbody tr th {\n",
       "        vertical-align: top;\n",
       "    }\n",
       "\n",
       "    .dataframe thead th {\n",
       "        text-align: right;\n",
       "    }\n",
       "</style>\n",
       "<table border=\"1\" class=\"dataframe\">\n",
       "  <thead>\n",
       "    <tr style=\"text-align: right;\">\n",
       "      <th></th>\n",
       "      <th>id</th>\n",
       "      <th>name</th>\n",
       "      <th>activity_name</th>\n",
       "      <th>quotas</th>\n",
       "    </tr>\n",
       "  </thead>\n",
       "  <tbody>\n",
       "    <tr>\n",
       "      <th>0</th>\n",
       "      <td>7659b95a-6429-11ed-b5cc-0a223dcf0f66</td>\n",
       "      <td>Academic Officers Intern</td>\n",
       "      <td>Zenius Professionals Practice Program Angkatan 4</td>\n",
       "      <td>6</td>\n",
       "    </tr>\n",
       "    <tr>\n",
       "      <th>1</th>\n",
       "      <td>3f356ec2-6fb0-11ed-a7a1-0278cb7f6574</td>\n",
       "      <td>Accounting Improvement</td>\n",
       "      <td>Great ISS Internship Program (GETS Program)</td>\n",
       "      <td>2</td>\n",
       "    </tr>\n",
       "    <tr>\n",
       "      <th>2</th>\n",
       "      <td>99c6bc1f-5c0d-11ed-8806-7a77835150ba</td>\n",
       "      <td>Accounting Intern</td>\n",
       "      <td>[MMN-JTSE] Pengembangan Bisnis Perusahaan mela...</td>\n",
       "      <td>1</td>\n",
       "    </tr>\n",
       "    <tr>\n",
       "      <th>3</th>\n",
       "      <td>c53f879e-6a30-11ed-8ebe-a6bfdab34a31</td>\n",
       "      <td>Accounting Officer</td>\n",
       "      <td>Officer Development Program</td>\n",
       "      <td>2</td>\n",
       "    </tr>\n",
       "    <tr>\n",
       "      <th>4</th>\n",
       "      <td>02aaaa53-60b4-11ed-aaab-4a119f027d25</td>\n",
       "      <td>Accounting Officer - Jakarta (Head Office)</td>\n",
       "      <td>ASTERIEX IV : First Journey to Become ASSA SPE...</td>\n",
       "      <td>2</td>\n",
       "    </tr>\n",
       "    <tr>\n",
       "      <th>...</th>\n",
       "      <td>...</td>\n",
       "      <td>...</td>\n",
       "      <td>...</td>\n",
       "      <td>...</td>\n",
       "    </tr>\n",
       "    <tr>\n",
       "      <th>704</th>\n",
       "      <td>3058ed45-6f9b-11ed-83fd-7e8ddab09462</td>\n",
       "      <td>Workshop Quality &amp; Productivity Control</td>\n",
       "      <td>Belajar Birdsama Bluebird</td>\n",
       "      <td>4</td>\n",
       "    </tr>\n",
       "    <tr>\n",
       "      <th>705</th>\n",
       "      <td>947ba8dc-5502-11ed-b209-b250481d78c3</td>\n",
       "      <td>Youth Segment Intern</td>\n",
       "      <td>DYNAMIC SUSTAINABILITY PROGRAMS (OFFLINE INTER...</td>\n",
       "      <td>4</td>\n",
       "    </tr>\n",
       "    <tr>\n",
       "      <th>706</th>\n",
       "      <td>67b505b2-6b0c-11ed-8225-d61b0e2692e7</td>\n",
       "      <td>Testing Specialist - Custody &amp; FA System</td>\n",
       "      <td>Custody &amp; Fund Admin System</td>\n",
       "      <td>3</td>\n",
       "    </tr>\n",
       "    <tr>\n",
       "      <th>707</th>\n",
       "      <td>f52a4546-6b0c-11ed-a22e-c63f61abb566</td>\n",
       "      <td>Treasury Digital Interactive Communication Pr...</td>\n",
       "      <td>Treasury Digital Interactive Communication</td>\n",
       "      <td>3</td>\n",
       "    </tr>\n",
       "    <tr>\n",
       "      <th>708</th>\n",
       "      <td>78574d97-6b09-11ed-a22e-c63f61abb566</td>\n",
       "      <td>Value and Culture Intern</td>\n",
       "      <td>Value and Culture Intern</td>\n",
       "      <td>3</td>\n",
       "    </tr>\n",
       "  </tbody>\n",
       "</table>\n",
       "<p>709 rows × 4 columns</p>\n",
       "</div>"
      ],
      "text/plain": [
       "                                       id  \\\n",
       "0    7659b95a-6429-11ed-b5cc-0a223dcf0f66   \n",
       "1    3f356ec2-6fb0-11ed-a7a1-0278cb7f6574   \n",
       "2    99c6bc1f-5c0d-11ed-8806-7a77835150ba   \n",
       "3    c53f879e-6a30-11ed-8ebe-a6bfdab34a31   \n",
       "4    02aaaa53-60b4-11ed-aaab-4a119f027d25   \n",
       "..                                    ...   \n",
       "704  3058ed45-6f9b-11ed-83fd-7e8ddab09462   \n",
       "705  947ba8dc-5502-11ed-b209-b250481d78c3   \n",
       "706  67b505b2-6b0c-11ed-8225-d61b0e2692e7   \n",
       "707  f52a4546-6b0c-11ed-a22e-c63f61abb566   \n",
       "708  78574d97-6b09-11ed-a22e-c63f61abb566   \n",
       "\n",
       "                                                  name  \\\n",
       "0                             Academic Officers Intern   \n",
       "1                               Accounting Improvement   \n",
       "2                                    Accounting Intern   \n",
       "3                                   Accounting Officer   \n",
       "4           Accounting Officer - Jakarta (Head Office)   \n",
       "..                                                 ...   \n",
       "704            Workshop Quality & Productivity Control   \n",
       "705                               Youth Segment Intern   \n",
       "706           Testing Specialist - Custody & FA System   \n",
       "707   Treasury Digital Interactive Communication Pr...   \n",
       "708                           Value and Culture Intern   \n",
       "\n",
       "                                         activity_name  quotas  \n",
       "0     Zenius Professionals Practice Program Angkatan 4       6  \n",
       "1          Great ISS Internship Program (GETS Program)       2  \n",
       "2    [MMN-JTSE] Pengembangan Bisnis Perusahaan mela...       1  \n",
       "3                          Officer Development Program       2  \n",
       "4    ASTERIEX IV : First Journey to Become ASSA SPE...       2  \n",
       "..                                                 ...     ...  \n",
       "704                          Belajar Birdsama Bluebird       4  \n",
       "705  DYNAMIC SUSTAINABILITY PROGRAMS (OFFLINE INTER...       4  \n",
       "706                        Custody & Fund Admin System       3  \n",
       "707         Treasury Digital Interactive Communication       3  \n",
       "708                           Value and Culture Intern       3  \n",
       "\n",
       "[709 rows x 4 columns]"
      ]
     },
     "execution_count": 18,
     "metadata": {},
     "output_type": "execute_result"
    }
   ],
   "source": [
    "mitra_data_df"
   ]
  }
 ],
 "metadata": {
  "kernelspec": {
   "display_name": "Python 3",
   "language": "python",
   "name": "python3"
  },
  "language_info": {
   "codemirror_mode": {
    "name": "ipython",
    "version": 3
   },
   "file_extension": ".py",
   "mimetype": "text/x-python",
   "name": "python",
   "nbconvert_exporter": "python",
   "pygments_lexer": "ipython3",
   "version": "3.8.0"
  },
  "orig_nbformat": 4,
  "vscode": {
   "interpreter": {
    "hash": "898a950986d43450680efc03f9903704e020e6e6b23d64c62a66308a081cc53c"
   }
  }
 },
 "nbformat": 4,
 "nbformat_minor": 2
}
